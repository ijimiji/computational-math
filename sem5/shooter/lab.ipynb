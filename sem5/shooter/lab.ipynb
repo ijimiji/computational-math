{
 "cells": [
  {
   "cell_type": "markdown",
   "metadata": {},
   "source": [
    "Лабораторная работа №2\n",
    "\n",
    "Выполнил студент 3 курса 4 группы Ларин Егор\n",
    "\n",
    "Вариант 6"
   ]
  },
  {
   "cell_type": "markdown",
   "metadata": {},
   "source": [
    "Задача\n",
    "$$u''+\\frac{2}{x}u'=\\frac{3}{x^2}$$\n",
    "$$\\frac{1}{2} \\leq x \\leq 1$$\n",
    "$$u'(\\frac{1}{2})=6, u(1)+u'(1)=3$$\n",
    "$$u(x)=3\\ln x$$\n",
    "$$h=0.01$$"
   ]
  },
  {
   "cell_type": "markdown",
   "metadata": {},
   "source": [
    "$\n",
    "\\begin{cases}\n",
    "u_1 = u \\\\\n",
    "u_2 = u'\n",
    "\\end{cases}\n",
    "\\Rightarrow \n",
    "\\begin{cases}\n",
    "u_1' = u_2\\\\\n",
    "u_2' = \\frac{3}{x^2} - \\frac{2}{x}u_2 \\\\\n",
    "u_1(1)+u_2(1) = 3 \\\\\n",
    "u_2(\\frac{1}{2}) = 6\n",
    "\\end{cases}$"
   ]
  },
  {
   "cell_type": "markdown",
   "metadata": {},
   "source": [
    "$\\alpha_1 = 0, \\beta_1 = 1, \\gamma_1 = 0$\n",
    "\n",
    "$\\alpha_2 = 0, \\beta_2 = -\\frac{2}{x}, \\gamma_2 = \\frac{3}{x^2}$\n",
    "\n",
    "$p_1 = 0, q_1 = 1, r_1 = 6$\n",
    "\n",
    "$p_2 = 1, q_2 = 1, r_2 = 3$"
   ]
  },
  {
   "cell_type": "markdown",
   "metadata": {},
   "source": [
    "Первая задача Коши\n",
    "\n",
    "$$\\begin{cases}\n",
    "u_1' = u_2\\\\\n",
    "u_2' = \\frac{3}{x^2} - \\frac{2}{x}u_2 \\\\\n",
    "u_1(\\frac{1}{2}) = \\eta_0 = 1 \\\\\n",
    "u_2(\\frac{1}{2}) = r_1 - \\frac{p_1 \\eta_0}{q_1} = 6\n",
    "\\end{cases}$$"
   ]
  },
  {
   "cell_type": "markdown",
   "metadata": {},
   "source": [
    "Вторая задача Коши\n",
    "\n",
    "$$\\begin{cases}\n",
    "u_1' = u_2\\\\\n",
    "u_2' = \\frac{3}{x^2} - \\frac{2}{x}u_2 \\\\\n",
    "u_1(\\frac{1}{2}) = \\eta_1 = 0 \\\\\n",
    "u_2(\\frac{1}{2}) = r_1 - \\frac{p_1 \\eta_1}{q_1} = 6\n",
    "\\end{cases}$$"
   ]
  },
  {
   "cell_type": "markdown",
   "metadata": {},
   "source": [
    "$$\n",
    "\\psi_0 = p_2  \\overline{u}_1 + q_2  \\overline{u}_2 - r_2\n",
    "$$\n",
    "\n",
    "$$\n",
    "\\psi_1 = p_2  \\hat{u}_1 + q2  \\hat{u}_2 - r_2\n",
    "$$\n",
    "\n",
    "$$u = \\frac{-\\psi_0 \\hat{u}_1 + \\psi_1 \\overline{u}_1} {\\psi_1 - \\psi_0}$$\n"
   ]
  },
  {
   "cell_type": "markdown",
   "metadata": {},
   "source": [
    "Правило Рунге\n",
    "$$\n",
    "h_1 = 0.01, h2=0.02\n",
    "$$\n",
    "\n",
    "$$\n",
    "Q = \\max_{\\omega_2} \\frac{u_{1,1} - u_{1,2}}{h_2^2 - h_1^2} \\cdot h_2^2 \n",
    "$$"
   ]
  },
  {
   "cell_type": "code",
   "execution_count": 6,
   "metadata": {},
   "outputs": [
    {
     "name": "stdout",
     "output_type": "stream",
     "text": [
      "err = 0.0002646421861543698\n"
     ]
    },
    {
     "data": {
      "image/png": "[encoded data removed]",
      "text/plain": [
       "<Figure size 640x480 with 1 Axes>"
      ]
     },
     "metadata": {},
     "output_type": "display_data"
    }
   ],
   "source": [
    "from matplotlib import pyplot as plt\n",
    "from math import ceil, log\n",
    "\n",
    "a = 0.5\n",
    "b = 1.\n",
    "\n",
    "r2 = 3\n",
    "r1 = 6\n",
    "\n",
    "p2 = 1\n",
    "p1 = 0\n",
    "q2 =1\n",
    "q1 = 1\n",
    "\n",
    "h = 0.01\n",
    "\n",
    "def u(x):\n",
    "    return 3 * log(x)\n",
    "\n",
    "def f1(x, u1, u2):\n",
    "    return u2\n",
    "\n",
    "def f2(x, u1, u2):\n",
    "    return 3 / x**2 - 2 / x * u2\n",
    "\n",
    "def solve(h):\n",
    "    n = ceil((b - a) / h) + 1\n",
    "    xs = [a + i * h for i in range(n)]\n",
    "\n",
    "    eta0 = 1\n",
    "    eta1 = 0\n",
    "\n",
    "    def runge(h, initial1):\n",
    "        initial2 = (r1-p1*initial1) / q1\n",
    "        ys = [[initial1, initial2]]\n",
    "        for i in range(n-1):\n",
    "            phi1 = f1(xs[i], ys[-1][0], ys[-1][1])\n",
    "            phi2 = f2(xs[i], ys[-1][0], ys[-1][1])\n",
    "\n",
    "            y1 = ys[-1][0] + h * f1(xs[i] + 0.5 * h, ys[-1][0] + 0.5 * h * phi1, ys[-1][1]+0.5* h * phi2)\n",
    "            y2 = ys[-1][1] + h * f2(xs[i] + 0.5 * h, ys[-1][0] + 0.5 * h * phi1, ys[-1][1]+0.5* h * phi2)\n",
    "\n",
    "            ys.append([y1, y2])\n",
    "\n",
    "        return ys\n",
    "\n",
    "    u0 = runge(h, eta0)\n",
    "    u1 = runge(h, eta1)\n",
    "\n",
    "    psi0 = p2 * u0[-1][0] + q2 * u0[-1][1] - r2\n",
    "    psi1 = p2 * u1[-1][0] + q2 * u1[-1][1] - r2\n",
    "\n",
    "    u = [(-psi0*y1[0] + psi1*y0[0]) / (psi1 - psi0) for (y0, y1) in zip(u0, u1)]\n",
    "\n",
    "    return u\n",
    "\n",
    "h2 = 0.01\n",
    "h1 = 0.02\n",
    "\n",
    "u1_ = solve(h1)\n",
    "u2_ = solve(h2)\n",
    "\n",
    "n = ceil((b - a) / h2) + 1\n",
    "xs = [a + i * h for i in range(n)]\n",
    "\n",
    "err = max([(u1_[i] - u2_[i*2]) / (h2**2 - h1**2) for i in range(len(u1_))]) * h2**2\n",
    "print(f\"{err = }\")\n",
    "\n",
    "plt.plot(xs, u2_, \"ro\", xs, [u(x) for x in xs], \"b\")\n",
    "plt.legend([\"$y(x)$\",  \"$3\\\\ln x$\"])\n",
    "plt.show()"
   ]
  },
  {
   "cell_type": "markdown",
   "metadata": {},
   "source": [
    "Выводы\n",
    "\n",
    "Компьютерным экспериментом подтверждается, что метод стрельбы с использованием метода средних прямоугольников Рунге-Кутта при оценке правилом Рунге дает решение с заданной точностью, которое достаточно близко к точному решению."
   ]
  }
 ],
 "metadata": {
  "kernelspec": {
   "display_name": "Python 3.10.6 64-bit",
   "language": "python",
   "name": "python3"
  },
  "language_info": {
   "codemirror_mode": {
    "name": "ipython",
    "version": 3
   },
   "file_extension": ".py",
   "mimetype": "text/x-python",
   "name": "python",
   "nbconvert_exporter": "python",
   "pygments_lexer": "ipython3",
   "version": "3.10.6"
  },
  "orig_nbformat": 4,
  "vscode": {
   "interpreter": {
    "hash": "aee8b7b246df8f9039afb4144a1f6fd8d2ca17a180786b69acc140d282b71a49"
   }
  }
 },
 "nbformat": 4,
 "nbformat_minor": 2
}
